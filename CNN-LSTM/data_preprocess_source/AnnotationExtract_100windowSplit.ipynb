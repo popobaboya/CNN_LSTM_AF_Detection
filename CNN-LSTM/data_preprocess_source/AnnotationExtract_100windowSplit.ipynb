{
 "cells": [
  {
   "cell_type": "code",
   "execution_count": null,
   "metadata": {},
   "outputs": [],
   "source": [
    "# import wfdb\n",
    "# import os\n",
    "# record = wfdb.rdsamp('files/04015', sampto=3000)\n",
    "# annotation = wfdb.rdann('files/04015', 'atr', sampto=3000)"
   ]
  },
  {
   "cell_type": "code",
   "execution_count": null,
   "metadata": {},
   "outputs": [],
   "source": [
    "# wfdb.plotrec(record, annotation = annotation,\n",
    "#          title='Record 04015 from MIT-BIH Atrial Fibrillation Database',\n",
    "#          timeunits = 'seconds', figsize = (10,4), ecggrids = 'all')"
   ]
  },
  {
   "cell_type": "code",
   "execution_count": null,
   "metadata": {},
   "outputs": [],
   "source": [
    "import wfdb\n",
    "# assign signals as ECG array from 0 to 1500 as your expected range, fields as other information\n",
    "# signals, fields = wfdb.rdsamp(r\"C:\\folder\\MIT\\100\", sampto=1500)\n",
    "record, fields = wfdb.rdsamp('files/04015', sampfrom =5000,sampto=8000)\n",
    "annotation = wfdb.rdann('files/04015', 'atr', sampfrom =5000,sampto=8000)\n",
    "# Plot with the array signals, fs as frequency (can be founds in fields['fs'], and title as an optional\n",
    "wfdb.plot_items(signal=record, fs=fields['fs'], title='Record 04015 from MIT-BIH Atrial Fibrillation Database',)\n",
    "# Display it with the additional information\n",
    "\n",
    "display((record, fields))"
   ]
  },
  {
   "cell_type": "code",
   "execution_count": null,
   "metadata": {},
   "outputs": [],
   "source": [
    "import wfdb\n",
    "import matplotlib.pyplot as plt\n",
    "\n",
    "record =wfdb.rdrecord(r'files/04015', sampfrom=0, sampto=2500)\n",
    "annotation = wfdb.rdann(r'files/04015', 'atr', sampto=2500)\n",
    "\n",
    "wfdb.plot_wfdb(record=record, \n",
    "               annotation=annotation, \n",
    "               plot_sym=True,\n",
    "               time_units='seconds', \n",
    "               title='Normal ECG',\n",
    "               figsize=(15,3), \n",
    "               ecg_grids='')\n",
    "\n",
    "plt.savefig(\"foo.png\")"
   ]
  },
  {
   "cell_type": "code",
   "execution_count": null,
   "metadata": {},
   "outputs": [],
   "source": [
    "record, fields = wfdb.rdsamp('files/04015', sampfrom =5000,sampto=8000)\n",
    "annotation = wfdb.rdann('files/04015', 'atr', sampfrom =5000,sampto=8000)\n",
    "# Plot with the array signals, fs as frequency (can be founds in fields['fs'], and title as an optional\n",
    "wfdb.plot_items(signal=record, fs=fields['fs'], title='Record 04015 from MIT-BIH Atrial Fibrillation Database')\n",
    "# Display it with the additional information\n",
    "display((record, fields))"
   ]
  },
  {
   "cell_type": "code",
   "execution_count": null,
   "metadata": {},
   "outputs": [],
   "source": [
    "wfdb.plot_items(signal=record, anno=annotation, title='Record 04015 from MIT-BIH Atrial Fibrillation Database')\n",
    "# Display it with the additional information\n",
    "display((record, annotation))"
   ]
  },
  {
   "cell_type": "code",
   "execution_count": null,
   "metadata": {},
   "outputs": [],
   "source": [
    "wfdb.get_wfdb_plot_items(record, annotation, plot_sym=true)"
   ]
  },
  {
   "cell_type": "code",
   "execution_count": null,
   "metadata": {},
   "outputs": [],
   "source": [
    "wfdb.plot_all_records(directory='files/')"
   ]
  },
  {
   "cell_type": "code",
   "execution_count": null,
   "metadata": {},
   "outputs": [],
   "source": [
    "wd, m = hp.process(resampled[0:60000], sample_rate = new_sample_rate, \n",
    "                       high_precision=True, clean_rr=True)"
   ]
  },
  {
   "cell_type": "code",
   "execution_count": null,
   "metadata": {},
   "outputs": [],
   "source": [
    "RR_list = wd['RR_list']\n",
    "RR_list\n",
    "Peaklist = wd['peaklist']"
   ]
  },
  {
   "cell_type": "code",
   "execution_count": null,
   "metadata": {},
   "outputs": [],
   "source": [
    "# Class for RR intervals features\n",
    "class RR_intervals:\n",
    "    def __init__(self):\n",
    "        self.pre_R = np.array([])"
   ]
  },
  {
   "cell_type": "code",
   "execution_count": null,
   "metadata": {},
   "outputs": [],
   "source": [
    "def compute_RR_intervals(R_poses):\n",
    "    features_RR = RR_intervals()\n",
    "\n",
    "    pre_R = np.array([], dtype=int)\n",
    "    \n",
    "    # Pre_R and Post_R\n",
    "    pre_R = np.append(pre_R, 0)\n",
    "\n",
    "\n",
    "    for i in range(1, len(R_poses)-1):\n",
    "        pre_R = np.append(pre_R, R_poses[i] - R_poses[i-1])\n",
    "\n",
    "\n",
    "    pre_R[0] = pre_R[1]\n",
    "    pre_R = np.append(pre_R, R_poses[-1] - R_poses[-2])  \n",
    "\n",
    "\n",
    " \n",
    "    for i in range(0, len(R_poses)):\n",
    "        features_RR.pre_R = np.append(features_RR.pre_R, pre_R[i])\n",
    " \n",
    "            \n",
    "    return features_RR"
   ]
  },
  {
   "cell_type": "code",
   "execution_count": null,
   "metadata": {},
   "outputs": [],
   "source": [
    "R_poses = Peaklist\n",
    "RR_intervals = compute_RR_intervals(R_poses)\n",
    "\n",
    "RR_intervals.pre_R"
   ]
  },
  {
   "cell_type": "code",
   "execution_count": null,
   "metadata": {},
   "outputs": [],
   "source": [
    "RR_intervals = RR_intervals.pre_R[1:]\n",
    "RR_intervals"
   ]
  },
  {
   "cell_type": "code",
   "execution_count": null,
   "metadata": {},
   "outputs": [],
   "source": [
    "start_pos = 0\n",
    "end_pos = len(RR_intervals)\n",
    "\n",
    "div = 100\n",
    "\n",
    "RR_intervals_copy = RR_intervals[:]\n",
    "tempList = []\n",
    "\n",
    "\n",
    "    \n",
    "for idx in range(start_pos, end_pos + div, div):\n",
    "    out = RR_intervals[start_pos:start_pos + div]\n",
    "    tempList.append(out)\n",
    "    if out != []:\n",
    "        print(out)\n",
    "    start_pos = start_pos + div"
   ]
  },
  {
   "cell_type": "code",
   "execution_count": null,
   "metadata": {},
   "outputs": [],
   "source": [
    "csv_file = pd.DataFrame(tempList)\n",
    "csv_file.to_csv('RRinterval_data_spilit.csv', index=False)"
   ]
  }
 ],
 "metadata": {
  "kernelspec": {
   "display_name": "Python 3",
   "language": "python",
   "name": "python3"
  },
  "language_info": {
   "codemirror_mode": {
    "name": "ipython",
    "version": 3
   },
   "file_extension": ".py",
   "mimetype": "text/x-python",
   "name": "python",
   "nbconvert_exporter": "python",
   "pygments_lexer": "ipython3",
   "version": "3.8.5"
  }
 },
 "nbformat": 4,
 "nbformat_minor": 4
}
